{
 "cells": [
  {
   "cell_type": "markdown",
   "metadata": {},
   "source": [
    "## Fecha de hoy"
   ]
  },
  {
   "cell_type": "code",
   "execution_count": 4,
   "metadata": {},
   "outputs": [
    {
     "name": "stdout",
     "output_type": "stream",
     "text": [
      "La Fecha de hoy es: 2022-02-08\n"
     ]
    }
   ],
   "source": [
    "from datetime import date\n",
    "date.today()\n",
    "print(\"La Fecha de hoy es:\",date.today())"
   ]
  },
  {
   "cell_type": "markdown",
   "metadata": {},
   "source": [
    "## Convertidor de unidades \n",
    "Parsecs a Años luz "
   ]
  },
  {
   "cell_type": "code",
   "execution_count": 11,
   "metadata": {},
   "outputs": [
    {
     "name": "stdout",
     "output_type": "stream",
     "text": [
      "23 parsec son: 75.01588 lightyears\n"
     ]
    }
   ],
   "source": [
    "parsec = 23\n",
    "lightyears = 3.26156\n",
    "lightyears1 = parsec * lightyears\n",
    "print(parsec, \"parsec son:\", lightyears1,\"lightyears\")"
   ]
  }
 ],
 "metadata": {
  "interpreter": {
   "hash": "520b1c8e76d8f70b160edf90a6a5217779523187381bb5aaf4130dafb2a13ec2"
  },
  "kernelspec": {
   "display_name": "Python 3.10.2 64-bit (windows store)",
   "language": "python",
   "name": "python3"
  },
  "language_info": {
   "codemirror_mode": {
    "name": "ipython",
    "version": 3
   },
   "file_extension": ".py",
   "mimetype": "text/x-python",
   "name": "python",
   "nbconvert_exporter": "python",
   "pygments_lexer": "ipython3",
   "version": "3.10.2"
  },
  "orig_nbformat": 4
 },
 "nbformat": 4,
 "nbformat_minor": 2
}
