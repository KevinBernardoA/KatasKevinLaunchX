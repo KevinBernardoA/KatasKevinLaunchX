{
 "cells": [
  {
   "cell_type": "markdown",
   "metadata": {},
   "source": [
    "## Funciones en Python"
   ]
  },
  {
   "cell_type": "code",
   "execution_count": null,
   "metadata": {},
   "outputs": [],
   "source": [
    "def tanques_combustible(tanque1, tanque2, tanque3):\n",
    "    return f\"\"\"Reporte:\n",
    "    Tanque promedio = {promedio([tanque1, tanque2, tanque3])} %\n",
    "    Tanque 1 = {tanque1} %\n",
    "    Tanque 2 = {tanque2} %\n",
    "    Tanque 3 = {tanque3} %\"\"\"\n",
    "print(tanques_combustible(434,345,238))\n",
    "\n",
    "def promedio(values):\n",
    "    total = sum(values)\n",
    "    numero = len(values)\n",
    "    return total /numero\n"
   ]
  },
  {
   "cell_type": "markdown",
   "metadata": {},
   "source": [
    "## Argumento de palabra clave"
   ]
  },
  {
   "cell_type": "code",
   "execution_count": 27,
   "metadata": {},
   "outputs": [
    {
     "name": "stdout",
     "output_type": "stream",
     "text": [
      "Reporte de la nave:\n",
      "    Destino: Marte\n",
      "    Duracion: 70 minutos\n",
      "    Total tanque: 142222\n",
      "    interno tanque --> 20000\n",
      "externo tanque --> 122222\n",
      "\n"
     ]
    }
   ],
   "source": [
    "\n",
    "def cohete(destino,*minutos, **tanque_lleno):\n",
    "    reporte =  f\"\"\"Reporte de la nave:\n",
    "    Destino: {destino}\n",
    "    Duracion: {sum(minutos)} minutos\n",
    "    Total tanque: {sum(tanque_lleno.values())}\n",
    "    \"\"\"\n",
    "    for nombre_tanque, galones in tanque_lleno.items():\n",
    "        reporte += f\"{nombre_tanque} tanque --> {galones}\\n\"\n",
    "    return reporte\n",
    "print(cohete(\"Marte\", 12, 45, 13, interno = 20000, externo = 122222))\n"
   ]
  }
 ],
 "metadata": {
  "interpreter": {
   "hash": "520b1c8e76d8f70b160edf90a6a5217779523187381bb5aaf4130dafb2a13ec2"
  },
  "kernelspec": {
   "display_name": "Python 3.10.2 64-bit (windows store)",
   "language": "python",
   "name": "python3"
  },
  "language_info": {
   "codemirror_mode": {
    "name": "ipython",
    "version": 3
   },
   "file_extension": ".py",
   "mimetype": "text/x-python",
   "name": "python",
   "nbconvert_exporter": "python",
   "pygments_lexer": "ipython3",
   "version": "3.10.2"
  },
  "orig_nbformat": 4
 },
 "nbformat": 4,
 "nbformat_minor": 2
}
