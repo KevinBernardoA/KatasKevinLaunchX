{
 "cells": [
  {
   "cell_type": "markdown",
   "metadata": {},
   "source": [
    "## Advertencia de Asteroide "
   ]
  },
  {
   "cell_type": "code",
   "execution_count": 12,
   "metadata": {},
   "outputs": [
    {
     "name": "stdout",
     "output_type": "stream",
     "text": [
      "Advertencia: Un asteroide se acerca y esta viajando a una velocidad de 49 KM/S\n"
     ]
    }
   ],
   "source": [
    "a = 49\n",
    "vm = 25\n",
    "if a > vm:\n",
    "    print(\"Advertencia: Un asteroide se acerca y esta viajando a una velocidad de 49 KM/S\")\n",
    "else:\n",
    "    print(\"Mensaje: Sigan en lo que estan haciendo\")\n"
   ]
  },
  {
   "cell_type": "code",
   "execution_count": 16,
   "metadata": {},
   "outputs": [
    {
     "name": "stdout",
     "output_type": "stream",
     "text": [
      "Mensaje: No hay nada que ver\n"
     ]
    }
   ],
   "source": [
    "a = 19\n",
    "l = 20\n",
    "if a > l:\n",
    "    print(\"Advertencia: Hay un asteroide que se acerca a mas de 20 km/s, vean al cielo se verá una luz\")\n",
    "elif a == l:\n",
    "    print(\"Advertencia: Hay un asteroide que se acerca a 20 km/s, vean al cielo se verá una luz \")\n",
    "else:\n",
    "    print(\"Mensaje: No hay nada que ver\")"
   ]
  },
  {
   "cell_type": "code",
   "execution_count": 68,
   "metadata": {},
   "outputs": [
    {
     "name": "stdout",
     "output_type": "stream",
     "text": [
      "Advertecia: Se acerca asteroide a mas de 25 km/s y tiene un tamaño de 122 metros !Causara un fuerte impacto!\n"
     ]
    }
   ],
   "source": [
    "va = 26\n",
    "ta = 122\n",
    "if va > 25 and ta > 25:\n",
    "    print(\"Advertecia: Se acerca asteroide a mas de 25 km/s y tiene un tamaño de\", ta,\"metros !Causara un fuerte impacto!\")\n",
    "elif va >= 20 or ta > 25:\n",
    "    print(\"Miren al cielo verán solo una luz de un asteroide derretido\")\n",
    "else:\n",
    "    print(\"¡No hay nada que ver!\")"
   ]
  }
 ],
 "metadata": {
  "interpreter": {
   "hash": "520b1c8e76d8f70b160edf90a6a5217779523187381bb5aaf4130dafb2a13ec2"
  },
  "kernelspec": {
   "display_name": "Python 3.10.2 64-bit (windows store)",
   "language": "python",
   "name": "python3"
  },
  "language_info": {
   "codemirror_mode": {
    "name": "ipython",
    "version": 3
   },
   "file_extension": ".py",
   "mimetype": "text/x-python",
   "name": "python",
   "nbconvert_exporter": "python",
   "pygments_lexer": "ipython3",
   "version": "3.10.2"
  },
  "orig_nbformat": 4
 },
 "nbformat": 4,
 "nbformat_minor": 2
}
