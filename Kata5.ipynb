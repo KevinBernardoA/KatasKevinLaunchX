{
 "cells": [
  {
   "cell_type": "markdown",
   "metadata": {},
   "source": [
    "## Operadores Aritméticos\n",
    "Distancia de dos planetas"
   ]
  },
  {
   "cell_type": "code",
   "execution_count": 3,
   "metadata": {},
   "outputs": [
    {
     "name": "stdout",
     "output_type": "stream",
     "text": [
      "628949330\n",
      "390577533.93\n"
     ]
    }
   ],
   "source": [
    "tierra = 149597870\n",
    "jupiter = 778547200\n",
    "\n",
    "distancia = jupiter - tierra\n",
    "conversor = distancia * 0.621\n",
    "print(distancia)\n",
    "print(conversor)"
   ]
  },
  {
   "cell_type": "markdown",
   "metadata": {},
   "source": [
    "## Cadenas en números y usa valores absolutos\n",
    "Distancia de planetas al sol"
   ]
  },
  {
   "cell_type": "code",
   "execution_count": 4,
   "metadata": {},
   "outputs": [
    {
     "name": "stdout",
     "output_type": "stream",
     "text": [
      "tienen una distancia de: 629000000\n",
      "Convertido a millas son: 390609000.0\n"
     ]
    }
   ],
   "source": [
    "planeta_1 = int(input(\"Distancia al sol del primer planeta:\"))\n",
    "planeta_2 = int(input(\"Distancia al sol del segundo planeta:\"))\n",
    "distancia = planeta_1 - planeta_2 \n",
    "print(f\"tienen una distancia de: {abs(planeta_1 - planeta_2)} KM\")\n",
    "print(f\"Convertido a millas son: {abs(distancia*0.621)}\")"
   ]
  }
 ],
 "metadata": {
  "interpreter": {
   "hash": "520b1c8e76d8f70b160edf90a6a5217779523187381bb5aaf4130dafb2a13ec2"
  },
  "kernelspec": {
   "display_name": "Python 3.10.2 64-bit (windows store)",
   "language": "python",
   "name": "python3"
  },
  "language_info": {
   "codemirror_mode": {
    "name": "ipython",
    "version": 3
   },
   "file_extension": ".py",
   "mimetype": "text/x-python",
   "name": "python",
   "nbconvert_exporter": "python",
   "pygments_lexer": "ipython3",
   "version": "3.10.2"
  },
  "orig_nbformat": 4
 },
 "nbformat": 4,
 "nbformat_minor": 2
}
