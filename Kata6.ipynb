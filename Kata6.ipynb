{
 "cells": [
  {
   "cell_type": "markdown",
   "metadata": {},
   "source": [
    "## Crear y usar listas"
   ]
  },
  {
   "cell_type": "code",
   "execution_count": 11,
   "metadata": {},
   "outputs": [
    {
     "name": "stdout",
     "output_type": "stream",
     "text": [
      "Hay 9 planetas en el sistema solar\n",
      "El ultimo planeta del sistema solar es: pluton\n"
     ]
    }
   ],
   "source": [
    "planetas = ['mercurio','venus','tierra','marte','jupiter','saturno','urano','neptuno']\n",
    "planetas.append('pluton')\n",
    "numero_planetas = len(planetas)\n",
    "print('Hay',numero_planetas,'planetas en el sistema solar')\n",
    "print('El ultimo planeta del sistema solar es:',planetas[8])"
   ]
  },
  {
   "cell_type": "markdown",
   "metadata": {},
   "source": [
    "## Trabajando con datos de una lista"
   ]
  },
  {
   "cell_type": "code",
   "execution_count": 23,
   "metadata": {},
   "outputs": [
    {
     "name": "stdout",
     "output_type": "stream",
     "text": [
      "El planeta que ingreso es el numero 4 del sistema solar\n",
      "Planetas que estan antes del sol: ['mercurio', 'venus', 'tierra']\n",
      "Planetas que estan despues del sol:  ['jupiter', 'saturno', 'urano', 'neptuno']\n"
     ]
    }
   ],
   "source": [
    "planetas = ['mercurio','venus','tierra','marte','jupiter','saturno','urano','neptuno']\n",
    "nombre_planeta = input(\"Dame el nombre de un planeta:\")\n",
    "buscar_planeta = planetas.index(nombre_planeta)\n",
    "print(\"El planeta que ingreso es el numero\", buscar_planeta+1,\"del sistema solar\")\n",
    "planetas_antes = planetas[0:buscar_planeta]\n",
    "planetas_despues = planetas[buscar_planeta+1:]\n",
    "print('Planetas que estan antes del sol:',planetas_antes)\n",
    "print('Planetas que estan despues del sol: ',planetas_despues)"
   ]
  }
 ],
 "metadata": {
  "interpreter": {
   "hash": "520b1c8e76d8f70b160edf90a6a5217779523187381bb5aaf4130dafb2a13ec2"
  },
  "kernelspec": {
   "display_name": "Python 3.10.2 64-bit (windows store)",
   "language": "python",
   "name": "python3"
  },
  "language_info": {
   "codemirror_mode": {
    "name": "ipython",
    "version": 3
   },
   "file_extension": ".py",
   "mimetype": "text/x-python",
   "name": "python",
   "nbconvert_exporter": "python",
   "pygments_lexer": "ipython3",
   "version": "3.10.2"
  },
  "orig_nbformat": 4
 },
 "nbformat": 4,
 "nbformat_minor": 2
}
